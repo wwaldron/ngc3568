{
 "cells": [
  {
   "cell_type": "markdown",
   "id": "3d7675c4-f3a7-4f44-a14e-3e43b652c4e6",
   "metadata": {},
   "source": [
    "# Median Filter Drizzled Images\n",
    "\n",
    "Due to new DQ arrays and reference files. The new ACS images have many NaN holes in the image. This notebook is designed to do a median filter over the image to fill in those holes."
   ]
  },
  {
   "cell_type": "code",
   "execution_count": null,
   "id": "3fe81d05-846c-49e9-a03d-6a75680e009e",
   "metadata": {},
   "outputs": [],
   "source": [
    "# Python Imports\n",
    "from os import path\n",
    "from glob import glob, iglob\n",
    "\n",
    "# 3rd Party Imports\n",
    "from tqdm.notebook import tqdm\n",
    "import numpy as np\n",
    "from scipy import ndimage\n",
    "from skimage.restoration import inpaint_biharmonic as ibh\n",
    "\n",
    "# Astropy Imports\n",
    "from astropy.io import fits\n",
    "from astropy.wcs import WCS\n",
    "from regions import Regions"
   ]
  },
  {
   "cell_type": "markdown",
   "id": "04cdeda7-17f0-4122-8a00-731d7be76052",
   "metadata": {},
   "source": [
    "## Notebook Setup"
   ]
  },
  {
   "cell_type": "code",
   "execution_count": null,
   "id": "f3d7784d-5ae4-4d14-a65d-b67ce8269220",
   "metadata": {},
   "outputs": [],
   "source": [
    "# Numpy Setup\n",
    "_ = np.seterr(all='ignore')"
   ]
  },
  {
   "cell_type": "code",
   "execution_count": null,
   "id": "acd0a49d-5400-4e9c-9e59-99d8ea6f6609",
   "metadata": {},
   "outputs": [],
   "source": [
    "# Directories\n",
    "IN_DIR  = path.abspath('../DrizzledImages')\n",
    "OUT_DIR = path.abspath('../MedianFilteredImages')\n",
    "DS9_DIR = path.abspath('../DS9/FOVs')"
   ]
  },
  {
   "cell_type": "code",
   "execution_count": null,
   "id": "48e0338b-69d7-4077-874a-f89d44060b5c",
   "metadata": {},
   "outputs": [],
   "source": [
    "# Filter Parameters\n",
    "FILTER_SIZE = 5\n",
    "\n",
    "# Filter Function\n",
    "FILTER_FUNCTION = np.nanmedian"
   ]
  },
  {
   "cell_type": "markdown",
   "id": "5227c677-c2ad-4766-b738-9fd6eae55fce",
   "metadata": {},
   "source": [
    "## Process Images"
   ]
  },
  {
   "cell_type": "code",
   "execution_count": null,
   "id": "abc81cce-68de-4019-b363-17b24e2468fd",
   "metadata": {},
   "outputs": [],
   "source": [
    "# Loop through Images\n",
    "for fileName in tqdm(glob(path.join(IN_DIR, '*_drc.fits.gz'))):\n",
    "    \n",
    "    # Get Output Name\n",
    "    outName = path.basename(fileName)\n",
    "    outName = outName.replace('.fits.gz', '_medfilt.fits.gz')\n",
    "    outName = path.join(OUT_DIR, outName)\n",
    "    \n",
    "    # Open the File for Saving\n",
    "    with fits.open(fileName) as hduList:\n",
    "        \n",
    "        # Get Instrument\n",
    "        instr = hduList[0].header['PRIMESI'].strip()\n",
    "        \n",
    "        # Extract Image\n",
    "        img = hduList[1].data\n",
    "        \n",
    "        # Load Regions\n",
    "        regs = Regions.read(path.join(DS9_DIR, instr+'-FOV.reg'), format='ds9')\n",
    "        fov  = regs[0].to_pixel(WCS(hduList[1]))\n",
    "        fovMsk = fov.to_mask().to_image(img.shape).astype(bool)\n",
    "        \n",
    "        # Mask of Pixels to Replace\n",
    "        # Replace Pixels in the FOV that are NaN\n",
    "        repPixMsk = fovMsk & np.isnan(img)\n",
    "        \n",
    "        # Filter the Image\n",
    "        filtImg = ndimage.generic_filter(\n",
    "            img,\n",
    "            function=FILTER_FUNCTION,\n",
    "            size=FILTER_SIZE\n",
    "        )\n",
    "        img[repPixMsk] = filtImg[repPixMsk]\n",
    "        \n",
    "        # Store to New Image\n",
    "        outList = hduList.copy()\n",
    "        outList[0].header.add_history('NaN pixels in FOV replaced with Median Mask')\n",
    "        outList['SCI'].data = img\n",
    "        outList.writeto(outName, overwrite=True)"
   ]
  },
  {
   "cell_type": "code",
   "execution_count": null,
   "id": "eb040c1b-5132-441d-b70d-79b94a5e2728",
   "metadata": {},
   "outputs": [],
   "source": [
    "# Loop through Images\n",
    "for fileName in tqdm(glob(path.join(IN_DIR, '*_drc.fits.gz'))):\n",
    "    \n",
    "    # Get Output Name\n",
    "    outName = path.basename(fileName)\n",
    "    outName = outName.replace('.fits.gz', '_ibh.fits.gz')\n",
    "    outName = path.join(OUT_DIR, outName)\n",
    "    \n",
    "    # Open the File for Saving\n",
    "    with fits.open(fileName) as hduList:\n",
    "        \n",
    "        # Get Instrument\n",
    "        instr = hduList[0].header['PRIMESI'].strip()\n",
    "        \n",
    "        # Extract Image\n",
    "        img = hduList[1].data\n",
    "        \n",
    "        # Load Regions\n",
    "        regs = Regions.read(path.join(DS9_DIR, instr+'-FOV.reg'), format='ds9')\n",
    "        fov  = regs[0].to_pixel(WCS(hduList[1]))\n",
    "        fovMsk = fov.to_mask().to_image(img.shape).astype(bool)\n",
    "        \n",
    "        # Mask of Pixels to Replace\n",
    "        # Replace Pixels in the FOV that are NaN\n",
    "        repPixMsk = fovMsk & np.isnan(img)\n",
    "        \n",
    "        # New Image with NaNs replaced with zeros\n",
    "        zeroedImg = img.copy()\n",
    "        zeroedImg[np.isnan(img)] = 0\n",
    "        \n",
    "        # Filter the Image\n",
    "        filtImg = ibh(\n",
    "            zeroedImg,\n",
    "            mask=repPixMsk\n",
    "        )\n",
    "        \n",
    "        # Re-NaN the Border\n",
    "        filtImg[~fovMsk & np.isnan(img)] = np.NaN\n",
    "        \n",
    "        # Store to New Image\n",
    "        outList = hduList.copy()\n",
    "        outList[0].header.add_history('NaN pixels in FOV replaced with Median Mask')\n",
    "        outList['SCI'].data = filtImg\n",
    "        outList.writeto(outName, overwrite=True)"
   ]
  }
 ],
 "metadata": {
  "kernelspec": {
   "display_name": "Python [conda env:stenv]",
   "language": "python",
   "name": "conda-env-stenv-py"
  },
  "language_info": {
   "codemirror_mode": {
    "name": "ipython",
    "version": 3
   },
   "file_extension": ".py",
   "mimetype": "text/x-python",
   "name": "python",
   "nbconvert_exporter": "python",
   "pygments_lexer": "ipython3",
   "version": "3.11.3"
  }
 },
 "nbformat": 4,
 "nbformat_minor": 5
}
