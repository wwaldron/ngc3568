{
 "cells": [
  {
   "cell_type": "markdown",
   "id": "ba138fa2-d76a-4bb2-ae94-a44c31249f2a",
   "metadata": {},
   "source": [
    "# NGC 3568 DeepCR Remover\n",
    "\n",
    "I have had some trouble removing CRs with AstroScrappy so this is an attempt to remove CRs with DeepCR instead. This should be run instead of the *Remove FLC CRs with Astroscrappy* in [NGC3568-ImageReducer.ipynb](NGC3568-ImageReducer.ipynb#remove_flc_crs_with_astroscrappy)."
   ]
  },
  {
   "cell_type": "markdown",
   "id": "154a4134-7787-4470-b047-d771a3ed0522",
   "metadata": {},
   "source": [
    "## Imports"
   ]
  },
  {
   "cell_type": "code",
   "execution_count": null,
   "id": "f07896bd-434d-4e52-bda5-5bf65b219a20",
   "metadata": {},
   "outputs": [],
   "source": [
    "# Python Imports\n",
    "# import os\n",
    "from os import path\n",
    "from glob import glob, iglob\n",
    "\n",
    "# Astropy Colab Imports\n",
    "from astropy.io import fits\n",
    "\n",
    "# Other Astronomy Imports\n",
    "from deepCR import deepCR"
   ]
  },
  {
   "cell_type": "markdown",
   "id": "7799c67a-9d5b-41d1-8b9a-237a67f37571",
   "metadata": {},
   "source": [
    "## Notebook Setup"
   ]
  },
  {
   "cell_type": "code",
   "execution_count": null,
   "id": "b8b303be-87e5-4ac0-a3c1-2f8b3ccc4afc",
   "metadata": {},
   "outputs": [],
   "source": [
    "# Conda Dir\n",
    "CONDA_DIR = path.expanduser('~/Software/miniconda3')\n",
    "MDL_DIR   = path.join(CONDA_DIR, 'envs/dcr/lib/python3.11/site-packages/learned_models')"
   ]
  },
  {
   "cell_type": "code",
   "execution_count": null,
   "id": "5f83cda3-7e07-4327-a3a9-b4f9c6e03f45",
   "metadata": {},
   "outputs": [],
   "source": [
    "# Data Directory\n",
    "DATA_DIR = 'mastDownload/HST'\n",
    "\n",
    "# FLC Glob Patter\n",
    "FLC_GLOB_PAT    = path.join(DATA_DIR, '**/*[!_cr]_flc.fits')\n",
    "\n",
    "# Backup Name\n",
    "BACKUP_NAME = path.join(DATA_DIR, 'FLCs.tar.gz')"
   ]
  },
  {
   "cell_type": "markdown",
   "id": "71e1e0cc-def2-4633-898e-88e0bf1bdfa7",
   "metadata": {},
   "source": [
    "## Store File Name Data"
   ]
  },
  {
   "cell_type": "code",
   "execution_count": null,
   "id": "8ef223ba-4363-44cb-b5d1-b640886c9df1",
   "metadata": {},
   "outputs": [],
   "source": [
    "# Get the File Names and Sort them by filter\n",
    "fileNameDict = {}\n",
    "for fn in iglob(FLC_GLOB_PAT):\n",
    "    \n",
    "    # Open the file to get the filter\n",
    "    with fits.open(fn) as hduList:\n",
    "        hdr = hduList[0].header  # Get the Header\n",
    "        if 'FILTER' in hdr:      # If the FILTER keyword exists (WFC3)\n",
    "            filt = hdr['FILTER']\n",
    "        elif 'CLEAR' not in hdr['FILTER1']:  # If FILTER1 is not clear (ACS)\n",
    "            filt = hdr['FILTER1']\n",
    "        else:                                # Else FILTER2 must be the filter (ACS)\n",
    "            filt = hdr['FILTER2']\n",
    "    \n",
    "    # Store the Name using the filter as the dict key\n",
    "    # Start the Empty List if Key does not exist\n",
    "    if filt not in fileNameDict:\n",
    "        fileNameDict[filt] = []\n",
    "    fileNameDict[filt].append(fn)"
   ]
  },
  {
   "cell_type": "markdown",
   "id": "87c53c16-9427-431d-a45e-73ec338a8667",
   "metadata": {},
   "source": [
    "## Remove CRs"
   ]
  },
  {
   "cell_type": "markdown",
   "id": "900d6939-e570-4f1d-911c-ce8473e093dd",
   "metadata": {},
   "source": [
    "### Remove F814W CRs"
   ]
  },
  {
   "cell_type": "code",
   "execution_count": null,
   "id": "bd8a476c-1a1d-4d0c-83a5-6eec8d15e737",
   "metadata": {},
   "outputs": [],
   "source": [
    "# Create the Model\n",
    "mdl = deepCR(\n",
    "    mask=path.join(MDL_DIR, 'mask/ACS-WFC-F814W.pth'),\n",
    "    device='CPU'\n",
    ")"
   ]
  },
  {
   "cell_type": "code",
   "execution_count": null,
   "id": "d6f4bd58-0298-4b24-9ad5-db20fa978a5c",
   "metadata": {},
   "outputs": [],
   "source": [
    "# Loop Through Files\n",
    "for fn in fileNameDict['F814W']:\n",
    "    \n",
    "    # Out Name\n",
    "    outName = fn.replace('flc.fits', 'deep_cr_flc.fits')\n",
    "    \n",
    "    # Open Image\n",
    "    with fits.open(fn) as hduList:\n",
    "        \n",
    "        # Get Cleaned Arrays\n",
    "        crmsk1, crarr1 = mdl.clean(\n",
    "            hduList['SCI', 1].data, #threshold=0.4,\n",
    "            binary=True,\n",
    "            inpaint=True, n_jobs=2)\n",
    "        crmsk2, crarr2 = mdl.clean(\n",
    "            hduList['SCI', 2].data, #threshold=0.4,\n",
    "            binary=True,\n",
    "            inpaint=True, n_jobs=2)\n",
    "        \n",
    "        # Write the Output Data\n",
    "        outList = hduList.copy()  # Copy the Original File\n",
    "        outList[0].header.add_history('CRs removed with DeepCR')  # Update comment about processing\n",
    "        outList['SCI', 1].data = crarr1  # Change the old SCI image for CR Removed img\n",
    "        outList.insert(4, fits.ImageHDU(crmsk1.astype('uint8'), hduList['SCI', 1].header, 'MSK'))\n",
    "        outList['SCI', 2].data = crarr2\n",
    "        outList.insert(8, fits.ImageHDU(crmsk2.astype('uint8'), hduList['SCI', 2].header, 'MSK'))\n",
    "        outList.writeto(outName, overwrite=True)"
   ]
  },
  {
   "cell_type": "markdown",
   "id": "c892a8a2-b8d8-4474-a397-81f5d29fd12a",
   "metadata": {},
   "source": [
    "### Remove F475W CRs"
   ]
  },
  {
   "cell_type": "code",
   "execution_count": null,
   "id": "e7009fa2-4850-415f-92c0-3bfe5f846302",
   "metadata": {},
   "outputs": [],
   "source": [
    "# Create the Model\n",
    "mdl = deepCR(\n",
    "    mask=path.join(MDL_DIR, 'mask/ACS-WFC-F435W.pth'),\n",
    "    device='CPU'\n",
    ")"
   ]
  },
  {
   "cell_type": "code",
   "execution_count": null,
   "id": "5edfa6af-b193-4be9-bb9c-4768b00e56f7",
   "metadata": {},
   "outputs": [],
   "source": [
    "# Loop Through Files\n",
    "for fn in fileNameDict['F475W']:\n",
    "    \n",
    "    # Out Name\n",
    "    outName = fn.replace('flc.fits', 'deep_cr_flc.fits')\n",
    "    \n",
    "    # Open Image\n",
    "    with fits.open(fn) as hduList:\n",
    "        \n",
    "        # Get Cleaned Arrays\n",
    "        crmsk1, crarr1 = mdl.clean(\n",
    "            hduList['SCI', 1].data,\n",
    "            binary=True,\n",
    "            inpaint=True, n_jobs=2\n",
    "        )\n",
    "        crmsk2, crarr2 = mdl.clean(\n",
    "            hduList['SCI', 2].data,\n",
    "            binary=True,\n",
    "            inpaint=True, n_jobs=2\n",
    "        )\n",
    "        \n",
    "        # Write the Output Data\n",
    "        outList = hduList.copy()  # Copy the Original File\n",
    "        outList[0].header.add_history('CRs removed with DeepCR')  # Update comment about processing\n",
    "        outList['SCI', 1].data = crarr1  # Change the old SCI image for CR Removed img\n",
    "        outList.insert(4, fits.ImageHDU(crmsk1.astype('uint8'), hduList['SCI', 1].header, 'MSK'))\n",
    "        outList['SCI', 2].data = crarr2\n",
    "        outList.insert(8, fits.ImageHDU(crmsk2.astype('uint8'), hduList['SCI', 2].header, 'MSK'))\n",
    "        outList.writeto(outName, overwrite=True)"
   ]
  },
  {
   "cell_type": "markdown",
   "id": "a39d037d-365e-4e67-b812-1b7379c64296",
   "metadata": {},
   "source": [
    "### Remove F275W CRs"
   ]
  },
  {
   "cell_type": "code",
   "execution_count": null,
   "id": "442532b6-bcb3-47b6-9aed-24e28a53ff9b",
   "metadata": {},
   "outputs": [],
   "source": [
    "# Create the Model\n",
    "mdl = deepCR(\n",
    "    mask=path.join(MDL_DIR, 'mask/ACS-WFC-F435W.pth'),\n",
    "    device='CPU'\n",
    ")"
   ]
  },
  {
   "cell_type": "code",
   "execution_count": null,
   "id": "74027669-cbd7-4f5b-90ae-9374065e834b",
   "metadata": {},
   "outputs": [],
   "source": [
    "# Loop Through Files\n",
    "for fn in fileNameDict['F275W']:\n",
    "    \n",
    "    # Out Name\n",
    "    outName = fn.replace('flc.fits', 'deep_cr_flc.fits')\n",
    "    \n",
    "    # Open Image\n",
    "    with fits.open(fn) as hduList:\n",
    "        \n",
    "        # Get Cleaned Arrays\n",
    "        crmsk1, crarr1 = mdl.clean(hduList['SCI', 1].data, inpaint=True, n_jobs=2)\n",
    "        crmsk2, crarr2 = mdl.clean(hduList['SCI', 2].data, inpaint=True, n_jobs=2)\n",
    "        \n",
    "        # Write the Output Data\n",
    "        outList = hduList.copy()  # Copy the Original File\n",
    "        outList[0].header.add_history('CRs removed with DeepCR')  # Update comment about processing\n",
    "        outList['SCI', 1].data = crarr1  # Change the old SCI image for CR Removed img\n",
    "        outList.insert(4, fits.ImageHDU(crmsk1.astype('uint8'), hduList['SCI', 1].header, 'MSK'))\n",
    "        outList['SCI', 2].data = crarr2\n",
    "        outList.insert(8, fits.ImageHDU(crmsk2.astype('uint8'), hduList['SCI', 2].header, 'MSK'))\n",
    "        outList.writeto(outName, overwrite=True)"
   ]
  }
 ],
 "metadata": {
  "kernelspec": {
   "display_name": "Python [conda env:dcr]",
   "language": "python",
   "name": "conda-env-dcr-py"
  },
  "language_info": {
   "codemirror_mode": {
    "name": "ipython",
    "version": 3
   },
   "file_extension": ".py",
   "mimetype": "text/x-python",
   "name": "python",
   "nbconvert_exporter": "python",
   "pygments_lexer": "ipython3",
   "version": "3.11.3"
  }
 },
 "nbformat": 4,
 "nbformat_minor": 5
}
