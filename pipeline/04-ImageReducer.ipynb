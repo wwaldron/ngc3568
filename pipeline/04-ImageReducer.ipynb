{
 "cells": [
  {
   "cell_type": "markdown",
   "id": "637a0e8a-4df7-4740-8b75-f2d67488f0c3",
   "metadata": {},
   "source": [
    "# NGC 3568 Image Reducer\n",
    "\n",
    "The purpose of this notebook is to reduce the FLC files from Hubble by:\n",
    "\n",
    "1. Aligning FLCs to the GAIA catalog\n",
    "2. Drizzling Images together from a particular filter\n",
    "3. Checking Drizzled images against the GAIA catalog\n",
    "\n",
    "## Imports"
   ]
  },
  {
   "cell_type": "code",
   "execution_count": null,
   "id": "a4534ffe-48ab-4e9c-ad7f-2a35819cab23",
   "metadata": {},
   "outputs": [],
   "source": [
    "# Python Imports\n",
    "import os\n",
    "from os import path\n",
    "from glob import iglob\n",
    "\n",
    "# 3rd Party Imports\n",
    "from matplotlib import pyplot as plt\n",
    "\n",
    "# Astropy Colab Imports\n",
    "from astropy.io import fits\n",
    "from astropy.wcs import WCS\n",
    "from astropy.stats import SigmaClip\n",
    "from astropy.table import QTable\n",
    "from photutils.background import Background2D, SExtractorBackground as SEBack\n",
    "from photutils.detection import IRAFStarFinder\n",
    "from drizzlepac.tweakreg import TweakReg\n",
    "from drizzlepac.astrodrizzle import AstroDrizzle"
   ]
  },
  {
   "cell_type": "markdown",
   "id": "186c7b12-53f5-4bd5-b331-0decd5baed45",
   "metadata": {},
   "source": [
    "## Notebook Setup"
   ]
  },
  {
   "cell_type": "code",
   "execution_count": null,
   "id": "0ea2d5c2-07ff-4df9-a748-375f08ada3e0",
   "metadata": {},
   "outputs": [],
   "source": [
    "# DQ Bits\n",
    "DQ_BAD_DET  = 4\n",
    "DQ_HOT_PIX  = 16\n",
    "DQ_CR_PIX   = 4096+8192\n",
    "DQ_GOOD_PIX = ~(DQ_BAD_DET + DQ_HOT_PIX + DQ_CR_PIX)"
   ]
  },
  {
   "cell_type": "markdown",
   "id": "3191a7f8-1148-43bc-b392-1fbec9a1d230",
   "metadata": {},
   "source": [
    "## Functions"
   ]
  },
  {
   "cell_type": "code",
   "execution_count": null,
   "id": "de709b10-c277-4c75-bbb0-e22e915cd853",
   "metadata": {},
   "outputs": [],
   "source": [
    "# Write Sources to Catalog\n",
    "def writecat(outName: str, srcs: QTable, wcs: WCS):\n",
    "    \n",
    "    # Get Coords\n",
    "    crds = wcs.pixel_to_world(srcs['xcentroid'], srcs['ycentroid'])\n",
    "    \n",
    "    # Open File for Writing\n",
    "    with open(outName, 'w') as fid:\n",
    "        \n",
    "        for crd in crds:\n",
    "            \n",
    "            fid.write(f'{crd.icrs.ra.value:20.10f} {crd.icrs.dec.value:20.10f}\\n')"
   ]
  },
  {
   "cell_type": "markdown",
   "id": "d5cd3424-175d-427d-ab38-6d2b191ed91d",
   "metadata": {},
   "source": [
    "## Load the Data"
   ]
  },
  {
   "cell_type": "code",
   "execution_count": null,
   "id": "26b6a90f-5641-4f2d-9123-3f28c3db4f78",
   "metadata": {},
   "outputs": [],
   "source": [
    "# Get the File Names and Sort them by filter\n",
    "fileNameDict = {}\n",
    "for fn in iglob('**/*flc.fits'):\n",
    "    \n",
    "    # Open the file to get the filter\n",
    "    with fits.open(fn) as hduList:\n",
    "        hdr = hduList[0].header  # Get the Header\n",
    "        if 'FILTER' in hdr:      # If the FILTER keyword exists (WFC3)\n",
    "            filt = hdr['FILTER']\n",
    "        elif 'CLEAR' not in hdr['FILTER1']:  # If FILTER1 is not clear (ACS)\n",
    "            filt = hdr['FILTER1']\n",
    "        else:                                # Else FILTER2 must be the filter (ACS)\n",
    "            filt = hdr['FILTER2']\n",
    "    \n",
    "    # Store the Name using the filter as the dict key\n",
    "    # Start the Empty List if Key does not exist\n",
    "    if filt not in fileNameDict:\n",
    "        fileNameDict[filt] = []\n",
    "    fileNameDict[filt].append(fn)"
   ]
  },
  {
   "cell_type": "markdown",
   "id": "ef010d17-6a56-4741-8dfb-3502225764bb",
   "metadata": {},
   "source": [
    "## Align Images to GAIA\n",
    "\n",
    "### Align F275W to GAIA\n",
    "\n",
    "The following method using TweakReg to find sources in the image kept returning garbage sources (essentially sources that were just background). I leave this code cell for posterity's sake (**don't run the cell below; it will fail**), but I will attempt another source finding method using PhotUtil in the next section."
   ]
  },
  {
   "cell_type": "code",
   "execution_count": null,
   "id": "a658c071-531f-4683-bc7d-b56d2873bea6",
   "metadata": {
    "jupyter": {
     "source_hidden": true
    },
    "tags": []
   },
   "outputs": [],
   "source": [
    "# # Image Find Parameters\n",
    "# imagefindcfg = refimagefindcfg = dict(\n",
    "#     peakmax=900,\n",
    "#     threshold=40,\n",
    "#     conv_width=3.5,\n",
    "#     dqbits=DQ_GOOD_PIX\n",
    "# )\n",
    "\n",
    "# # Align the Images to the GAIA data\n",
    "# TweakReg(\n",
    "#     fileNameDict['F275W'],\n",
    "#     updatehdr=False,\n",
    "#     clean=False,\n",
    "#     configobj=None,\n",
    "#     refcat='../../../Data/GAIA/NGC3568-GAIA-RefCatalog.txt',\n",
    "#     runfile='F275W-Tweak.log',\n",
    "#     shiftfile=True,\n",
    "#     outshifts='F275W-Shifts.log',\n",
    "#     searchrad=1,\n",
    "#     minobj=5,\n",
    "#     imagefindcfg=imagefindcfg,\n",
    "#     refimagefindcfg=refimagefindcfg\n",
    "# )"
   ]
  },
  {
   "cell_type": "markdown",
   "id": "a1c4d09c-bfe3-47eb-b104-0c20c1e2d425",
   "metadata": {},
   "source": [
    "#### F275W PhotUtil SourceID\n",
    "\n",
    "Note that it would be more effecient to loop through all the files once. However, in terms of code readability and cell execution, I have broken up the image loader, background estimator, and source detector into a cell each."
   ]
  },
  {
   "cell_type": "code",
   "execution_count": null,
   "id": "e3c59094-f4d4-4bd1-bd07-fc57b17a2ee0",
   "metadata": {},
   "outputs": [],
   "source": [
    "# Image Variables\n",
    "imgs, dqs, wcss, msks = {}, {}, {}, {}\n",
    "\n",
    "# Loop through Files\n",
    "for fn in fileNameDict['F275W']:\n",
    "    \n",
    "    # Open the File\n",
    "    with fits.open(fn) as hduList:\n",
    "        \n",
    "        # Get Images and DQs\n",
    "        imgs[fn, 1] = hduList['sci', 1].data\n",
    "        wcss[fn, 1] = WCS(hduList['sci', 1], hduList)\n",
    "        imgs[fn, 2] = hduList['sci', 2].data\n",
    "        wcss[fn, 2] = WCS(hduList['sci', 2], hduList)\n",
    "        dqs[fn, 1]  = hduList['dq', 1].data\n",
    "        dqs[fn, 2]  = hduList['dq', 2].data\n",
    "    \n",
    "    # Create the Masks\n",
    "    msks[fn, 1] = ((dqs[fn, 1] & ~DQ_GOOD_PIX) != 0)\n",
    "    msks[fn, 2] = ((dqs[fn, 2] & ~DQ_GOOD_PIX) != 0)"
   ]
  },
  {
   "cell_type": "code",
   "execution_count": null,
   "id": "bb3cbecd-4fcf-47ff-a9da-cc79b4fc4c57",
   "metadata": {},
   "outputs": [],
   "source": [
    "# BG Vars\n",
    "bgs = {}\n",
    "\n",
    "# BG Estimator\n",
    "# For changing default values\n",
    "bkg_estimator = SEBack()\n",
    "sigma_clip    = SigmaClip(maxiters=10)\n",
    "\n",
    "# Get the Background for Each File\n",
    "for fn in fileNameDict['F275W']:\n",
    "    \n",
    "    bgs[fn, 1] = Background2D(\n",
    "        data=imgs[fn, 1],\n",
    "        box_size=256,\n",
    "        mask=msks[fn, 1],\n",
    "        sigma_clip=sigma_clip,\n",
    "        bkg_estimator=bkg_estimator\n",
    "    )\n",
    "    bgs[fn, 2] = Background2D(\n",
    "        data=imgs[fn, 2],\n",
    "        box_size=256,\n",
    "        mask=msks[fn, 2],\n",
    "        sigma_clip=sigma_clip,\n",
    "        bkg_estimator=bkg_estimator\n",
    "    )"
   ]
  },
  {
   "cell_type": "code",
   "execution_count": null,
   "id": "9ca6e1cb-9fbf-4456-a5cf-04c4c13adc5e",
   "metadata": {},
   "outputs": [],
   "source": [
    "# Source Finder\n",
    "irafFind = IRAFStarFinder(\n",
    "    threshold=50,\n",
    "    fwhm=3.5\n",
    ")\n",
    "\n",
    "# Find Sources and Write to File\n",
    "catStr = ''\n",
    "for fn in fileNameDict['F275W']:\n",
    "    \n",
    "    # Put the File Name in the catalog string\n",
    "    catStr += path.abspath(fn)\n",
    "    \n",
    "    # Frame 1\n",
    "    outName = path.join('tweak/F275W', path.basename(fn)[:-5] + '_1.coo')\n",
    "    catStr += ' ' + outName\n",
    "    srcs = irafFind(imgs[fn, 1] - bgs[fn, 1].background, mask=msks[fn, 1])\n",
    "    writecat(outName, srcs, wcss[fn, 1])\n",
    "    \n",
    "    # Frame 2\n",
    "    outName = path.join('tweak/F275W', path.basename(fn)[:-5] + '_2.coo')\n",
    "    catStr += ' ' + outName + '\\n'\n",
    "    srcs = irafFind(imgs[fn, 2] - bgs[fn, 2].background, mask=msks[fn, 2])\n",
    "    writecat(outName, srcs, wcss[fn, 2])\n",
    "\n",
    "# Write the Catalog Name\n",
    "with open('tweak/F275W/F275W_srcs.cat', 'w') as fid:\n",
    "    fid.write(catStr)"
   ]
  },
  {
   "cell_type": "markdown",
   "id": "09055ecc-e777-4514-92cb-5dc23d18e861",
   "metadata": {},
   "source": [
    "#### Align F275W with IDed Sources"
   ]
  },
  {
   "cell_type": "code",
   "execution_count": null,
   "id": "e61f9ef3-006d-41e4-80fc-e6560ffe74a8",
   "metadata": {},
   "outputs": [],
   "source": [
    "# Align the Images to the GAIA data\n",
    "TweakReg(\n",
    "    fileNameDict['F275W'],\n",
    "    updatehdr=False,\n",
    "    wcsname='GAIA',\n",
    "    clean=True,\n",
    "    configobj=None,\n",
    "    catfile='tweak/F275W/F275W_srcs.cat',\n",
    "    xyunits='degrees',\n",
    "    refcat='tweak/F275W/AlignmentStars-RefCat.txt',\n",
    "    runfile='F275W-Tweak.log',\n",
    "    shiftfile=True,\n",
    "    outshifts='F275W-Shifts.log',\n",
    "    searchrad=0.1,\n",
    "    tolerance=2,\n",
    "    minobj=5\n",
    ")"
   ]
  },
  {
   "cell_type": "code",
   "execution_count": null,
   "id": "6f154b10-f8db-43b1-ad1d-4d615fb4152a",
   "metadata": {},
   "outputs": [],
   "source": [
    "# Clean Up\n",
    "for fn in iglob('*.match'):\n",
    "    os.remove(fn)\n",
    "for fn in iglob('*.coo'):\n",
    "    os.remove(fn)\n",
    "for fn in iglob('*.list'):\n",
    "    os.remove(fn)\n",
    "os.rename('F275W-Shifts.log', 'tweak/F275W/F275W-Shifts.log')\n",
    "os.rename('F275W-Tweak.log', 'tweak/F275W/F275W-Tweak.log')\n",
    "os.rename('shifts_wcs.fits', 'tweak/F275W/shift_wcs.fits')"
   ]
  },
  {
   "cell_type": "markdown",
   "id": "41d90de0-62e4-47c6-b435-79a9de9e88d0",
   "metadata": {},
   "source": [
    "### Align F475W to GAIA"
   ]
  },
  {
   "cell_type": "code",
   "execution_count": null,
   "id": "66df4400-786e-4a61-8b96-06a2229269a9",
   "metadata": {},
   "outputs": [],
   "source": [
    "# Image Find Parameters\n",
    "imagefindcfg = refimagefindcfg = dict(\n",
    "    # peakmax=900,\n",
    "    threshold=40,\n",
    "    conv_width=3.5,\n",
    "    dqbits=DQ_GOOD_PIX\n",
    ")\n",
    "\n",
    "# Align the Images to the GAIA data\n",
    "TweakReg(\n",
    "    fileNameDict['F475W'],\n",
    "    updatehdr=True,\n",
    "    wcsname='GAIA',\n",
    "    clean=True,\n",
    "    configobj=None,\n",
    "    refcat='tweak/F475W/AlignmentStars-RefCat.txt',\n",
    "    runfile='F475W-Tweak.log',\n",
    "    shiftfile=True,\n",
    "    outshifts='F475W-Shifts.log',\n",
    "    searchrad=0.1,\n",
    "    minobj=15,\n",
    "    tolerance=1,\n",
    "    imagefindcfg=imagefindcfg,\n",
    "    refimagefindcfg=refimagefindcfg\n",
    ")"
   ]
  },
  {
   "cell_type": "code",
   "execution_count": null,
   "id": "48e553f3-085d-46e7-8d2b-16d79db03c00",
   "metadata": {},
   "outputs": [],
   "source": [
    "# Clean Up\n",
    "for fn in iglob('*.match'):\n",
    "    os.remove(fn)\n",
    "for fn in iglob('*.coo'):\n",
    "    os.remove(fn)\n",
    "for fn in iglob('*.list'):\n",
    "    os.remove(fn)\n",
    "os.rename('F475W-Shifts.log', 'tweak/F475W/F475W-Shifts.log')\n",
    "os.rename('F475W-Tweak.log', 'tweak/F475W/F475W-Tweak.log')\n",
    "os.rename('shifts_wcs.fits', 'tweak/F475W/shift_wcs.fits')"
   ]
  },
  {
   "cell_type": "markdown",
   "id": "ed04c1e6-3f10-4354-8f8f-7b5fd5809ac2",
   "metadata": {},
   "source": [
    "### Align F814W to GAIA"
   ]
  },
  {
   "cell_type": "code",
   "execution_count": null,
   "id": "88894703-57a4-4e6e-bac2-ec993d497a26",
   "metadata": {},
   "outputs": [],
   "source": [
    "# Image Find Parameters\n",
    "imagefindcfg = refimagefindcfg = dict(\n",
    "    # peakmax=900,\n",
    "    threshold=40,\n",
    "    conv_width=3.5,\n",
    "    dqbits=DQ_GOOD_PIX\n",
    ")\n",
    "\n",
    "# Align the Images to the GAIA data\n",
    "TweakReg(\n",
    "    fileNameDict['F814W'],\n",
    "    updatehdr=True,\n",
    "    wcsname='GAIA',\n",
    "    clean=True,\n",
    "    configobj=None,\n",
    "    refcat='tweak/F814W/AlignmentStars-RefCat.txt',\n",
    "    runfile='F814W-Tweak.log',\n",
    "    shiftfile=True,\n",
    "    outshifts='F814W-Shifts.log',\n",
    "    searchrad=0.1,\n",
    "    minobj=15,\n",
    "    tolerance=1,\n",
    "    imagefindcfg=imagefindcfg,\n",
    "    refimagefindcfg=refimagefindcfg\n",
    ")"
   ]
  },
  {
   "cell_type": "code",
   "execution_count": null,
   "id": "844397fe-1026-4706-85ef-a58d841e5dc9",
   "metadata": {},
   "outputs": [],
   "source": [
    "# Clean Up\n",
    "for fn in iglob('*.match'):\n",
    "    os.remove(fn)\n",
    "for fn in iglob('*.coo'):\n",
    "    os.remove(fn)\n",
    "for fn in iglob('*.list'):\n",
    "    os.remove(fn)\n",
    "os.rename('F814W-Shifts.log', 'tweak/F814W/F814W-Shifts.log')\n",
    "os.rename('F814W-Tweak.log', 'tweak/F814W/F814W-Tweak.log')\n",
    "os.rename('shifts_wcs.fits', 'tweak/F814W/shift_wcs.fits')"
   ]
  },
  {
   "cell_type": "markdown",
   "id": "850f371e-8d46-4f59-b725-ed670feaf1d8",
   "metadata": {},
   "source": [
    "## Drizzle Images"
   ]
  },
  {
   "cell_type": "markdown",
   "id": "4b73b4ca-9625-4ecc-8c8f-87dcfebfc010",
   "metadata": {},
   "source": [
    "### Drizzle F814W Images"
   ]
  },
  {
   "cell_type": "code",
   "execution_count": null,
   "id": "727ad88a-d11f-4eeb-b155-cf12039938aa",
   "metadata": {},
   "outputs": [],
   "source": [
    "# Drizzle Images\n",
    "AstroDrizzle(\n",
    "    fileNameDict['F814W'],\n",
    "    output='F814W',\n",
    "    runfile='F814W-Astro.log',\n",
    "    wcskey='GAIA',\n",
    "    build=True,\n",
    "    restore=False,\n",
    "    preserve=True,\n",
    "    clean=True,\n",
    "    final_wht_type='IVM',\n",
    "    final_pixfrac=0.9,\n",
    "    final_wcs=True,\n",
    "    final_rot=0,\n",
    "    final_scale=0.03,\n",
    "    final_outnx=8500,\n",
    "    final_outny=8500\n",
    ")"
   ]
  },
  {
   "cell_type": "markdown",
   "id": "9fbbba27-7656-4df5-8b1f-f8c18ce78bd5",
   "metadata": {},
   "source": [
    "### Drizzle F275W Images"
   ]
  },
  {
   "cell_type": "code",
   "execution_count": null,
   "id": "a62a815b-aba1-4c99-b52e-a252b6591cd2",
   "metadata": {},
   "outputs": [],
   "source": [
    "# Drizzle Images\n",
    "AstroDrizzle(\n",
    "    fileNameDict['F275W'],\n",
    "    output='F275W',\n",
    "    runfile='F275W-Astro.log',\n",
    "    wcskey='GAIA',\n",
    "    build=True,\n",
    "    restore=False,\n",
    "    preserve=True,\n",
    "    clean=True,\n",
    "    final_wht_type='IVM',\n",
    "    final_pixfrac=0.90,\n",
    "    final_wcs=True,\n",
    "    final_refimage='F814W_drc.fits'\n",
    ")"
   ]
  },
  {
   "cell_type": "markdown",
   "id": "c340d41f-0d49-4d0d-add8-360e84b512cd",
   "metadata": {},
   "source": [
    "### Drizzle F475W Images"
   ]
  },
  {
   "cell_type": "code",
   "execution_count": null,
   "id": "b5d028a2-1248-4d93-b9b5-3d502c0909bc",
   "metadata": {},
   "outputs": [],
   "source": [
    "# Drizzle Images\n",
    "AstroDrizzle(\n",
    "    fileNameDict['F475W'],\n",
    "    output='F475W',\n",
    "    runfile='F475W-Astro.log',\n",
    "    wcskey='GAIA',\n",
    "    build=True,\n",
    "    restore=False,\n",
    "    preserve=True,\n",
    "    clean=True,\n",
    "    final_wht_type='IVM',\n",
    "    final_pixfrac=0.90,\n",
    "    final_wcs=True,\n",
    "    final_refimage='F814W_drc.fits'\n",
    ")"
   ]
  }
 ],
 "metadata": {
  "kernelspec": {
   "display_name": "Python 3 (ipykernel)",
   "language": "python",
   "name": "python3"
  },
  "language_info": {
   "codemirror_mode": {
    "name": "ipython",
    "version": 3
   },
   "file_extension": ".py",
   "mimetype": "text/x-python",
   "name": "python",
   "nbconvert_exporter": "python",
   "pygments_lexer": "ipython3",
   "version": "3.11.0"
  }
 },
 "nbformat": 4,
 "nbformat_minor": 5
}
