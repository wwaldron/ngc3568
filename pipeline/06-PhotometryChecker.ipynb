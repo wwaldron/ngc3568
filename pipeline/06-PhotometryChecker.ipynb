{
 "cells": [
  {
   "cell_type": "markdown",
   "id": "ab5f23f2-be22-4ffb-965f-f4e97b15b696",
   "metadata": {},
   "source": [
    "# NGC 3568 Photometry Checker\n",
    "\n",
    "This notebook is designed to check the photometry between the FLCs, Hubble Pipeline DRCs, and my DRCs.\n",
    "\n",
    "## Imports"
   ]
  },
  {
   "cell_type": "code",
   "execution_count": null,
   "id": "95efa829-8f3f-4dea-b845-9740d841adbc",
   "metadata": {},
   "outputs": [],
   "source": [
    "# Python Imports\n",
    "from os import path\n",
    "from glob import iglob\n",
    "\n",
    "# 3rd Party Imports\n",
    "import numpy as np\n",
    "\n",
    "# Astropy Imports\n",
    "from astropy import units as u\n",
    "from astropy.io import fits\n",
    "from astropy.wcs import WCS\n",
    "from astropy.coordinates import SkyCoord\n",
    "import photutils as phot"
   ]
  },
  {
   "cell_type": "markdown",
   "id": "e03f9f72-6964-4ecd-86a0-c89450ac4def",
   "metadata": {},
   "source": [
    "## Notebook Setup"
   ]
  },
  {
   "cell_type": "code",
   "execution_count": null,
   "id": "d3103842-12c1-484b-a7db-00f6acc40a6a",
   "metadata": {},
   "outputs": [],
   "source": [
    "# Paths\n",
    "TOP_LVL_DIR = '/home/wwaldron/Research/Galaxies/NGC3568/Images'\n",
    "MAST_DIR    = path.join(TOP_LVL_DIR, 'mastDownload/HST')\n",
    "PROC_DIR    = path.join(TOP_LVL_DIR, 'ProcessedImages/HST')"
   ]
  },
  {
   "cell_type": "markdown",
   "id": "717cafbf-968b-4a82-9cf9-6907e4d753bd",
   "metadata": {},
   "source": [
    "## Load Data"
   ]
  },
  {
   "cell_type": "code",
   "execution_count": null,
   "id": "48af18df-91d3-4765-bb6e-03710bcac013",
   "metadata": {},
   "outputs": [],
   "source": [
    "# Load HST DRCs\n",
    "hstData = {}\n",
    "for fn in iglob(path.join(MAST_DIR, '**/*drc.fits')):\n",
    "    \n",
    "    # Open the file to get the filter\n",
    "    with fits.open(fn) as hduList:\n",
    "        hdr = hduList[0].header  # Get the Header\n",
    "        if 'FILTER' in hdr:      # If the FILTER keyword exists (WFC3)\n",
    "            filt = hdr['FILTER']\n",
    "        elif 'CLEAR' not in hdr['FILTER1']:  # If FILTER1 is not clear (ACS)\n",
    "            filt = hdr['FILTER1']\n",
    "        else:                                # Else FILTER2 must be the filter (ACS)\n",
    "            filt = hdr['FILTER2']\n",
    "    \n",
    "        # Store the Name using the filter as the dict key\n",
    "        # Start the Empty List if Key does not exist\n",
    "        if filt not in hstData:\n",
    "            hstData[filt] = {}\n",
    "    \n",
    "        # Load the Image Data and WCS\n",
    "        hstData[filt]['img'] = hduList[1].data\n",
    "        hstData[filt]['wcs'] = WCS(hduList[1])"
   ]
  },
  {
   "cell_type": "code",
   "execution_count": null,
   "id": "512b4907-9013-406c-b592-8df643c6a056",
   "metadata": {},
   "outputs": [],
   "source": [
    "# Load My DRCs\n",
    "myData = {}\n",
    "for fn in iglob(path.join(PROC_DIR, '**/*drc.fits.gz')):\n",
    "    \n",
    "    # Open the file to get the filter\n",
    "    with fits.open(fn) as hduList:\n",
    "        hdr = hduList[0].header  # Get the Header\n",
    "        if 'FILTER' in hdr:      # If the FILTER keyword exists (WFC3)\n",
    "            filt = hdr['FILTER']\n",
    "        elif 'CLEAR' not in hdr['FILTER1']:  # If FILTER1 is not clear (ACS)\n",
    "            filt = hdr['FILTER1']\n",
    "        else:                                # Else FILTER2 must be the filter (ACS)\n",
    "            filt = hdr['FILTER2']\n",
    "    \n",
    "        # Store the Name using the filter as the dict key\n",
    "        # Start the Empty List if Key does not exist\n",
    "        if filt not in myData:\n",
    "            myData[filt] = {}\n",
    "    \n",
    "        # Load the Image Data and WCS\n",
    "        myData[filt]['img'] = hduList[1].data\n",
    "        myData[filt]['wcs'] = WCS(hduList[1])"
   ]
  },
  {
   "cell_type": "markdown",
   "id": "e6e250b3-3f49-4faa-bd77-6417e2e25797",
   "metadata": {},
   "source": [
    "## Photometry"
   ]
  },
  {
   "cell_type": "code",
   "execution_count": null,
   "id": "ccd18065-2195-446a-8bf2-780d4f340750",
   "metadata": {},
   "outputs": [],
   "source": [
    "# Establish Source Coordinates\n",
    "srcCrds = SkyCoord(\n",
    "    ra=[\n",
    "        167.6867031,\n",
    "        167.6969115,\n",
    "        167.6788570,\n",
    "        167.6835468,\n",
    "    ],\n",
    "    dec=[\n",
    "        -37.4299580,\n",
    "        -37.4374874,\n",
    "        -37.4398610,\n",
    "        -37.4636773,\n",
    "    ],\n",
    "    unit=u.deg,\n",
    "    frame='icrs'\n",
    ")\n",
    "\n",
    "# Radii\n",
    "R_IN  = 0.5 * u.arcsec\n",
    "R_OUT = 0.9 * u.arcsec\n",
    "\n",
    "# Area\n",
    "A_IN  = np.pi*R_IN**2\n",
    "A_OUT = np.pi*(R_OUT**2 - R_IN**2)\n",
    "\n",
    "# Setup Apertures\n",
    "aper = phot.aperture.SkyCircularAperture(srcCrds, R_IN)\n",
    "annu = phot.aperture.SkyCircularAnnulus(srcCrds, R_IN, R_OUT)"
   ]
  },
  {
   "cell_type": "markdown",
   "id": "03a7afab-0a3b-415f-935b-7160cc38d2fd",
   "metadata": {},
   "source": [
    "### Simple Aperture Photometry"
   ]
  },
  {
   "cell_type": "code",
   "execution_count": null,
   "id": "ddd954fb-f493-49ea-ac96-b09a018747ff",
   "metadata": {},
   "outputs": [],
   "source": [
    "# Loop through HST Data\n",
    "for fn, dataDict in hstData.items():\n",
    "    \n",
    "    # Get Photometry\n",
    "    aperRes = phot.aperture.aperture_photometry(\n",
    "        dataDict['img'],\n",
    "        aper,\n",
    "        wcs=dataDict['wcs']\n",
    "    )\n",
    "    annuRes = phot.aperture.aperture_photometry(\n",
    "        dataDict['img'],\n",
    "        annu,\n",
    "        wcs=dataDict['wcs']\n",
    "    )\n",
    "    \n",
    "    # Store Results\n",
    "    dataDict['flux'] = aperRes['aperture_sum'] - annuRes['aperture_sum']*(A_IN/A_OUT)"
   ]
  },
  {
   "cell_type": "code",
   "execution_count": null,
   "id": "6e2f1468-4840-4614-977f-06ad69df0b13",
   "metadata": {},
   "outputs": [],
   "source": [
    "# Loop through My Data\n",
    "for fn, dataDict in myData.items():\n",
    "    \n",
    "    # Get Photometry\n",
    "    aperRes = phot.aperture.aperture_photometry(\n",
    "        dataDict['img'],\n",
    "        aper,\n",
    "        wcs=dataDict['wcs']\n",
    "    )\n",
    "    annuRes = phot.aperture.aperture_photometry(\n",
    "        dataDict['img'],\n",
    "        annu,\n",
    "        wcs=dataDict['wcs']\n",
    "    )\n",
    "    \n",
    "    # Store Results\n",
    "    dataDict['flux'] = aperRes['aperture_sum'] - annuRes['aperture_sum']*(A_IN/A_OUT)"
   ]
  }
 ],
 "metadata": {
  "kernelspec": {
   "display_name": "Python [conda env:stenv]",
   "language": "python",
   "name": "conda-env-stenv-py"
  },
  "language_info": {
   "codemirror_mode": {
    "name": "ipython",
    "version": 3
   },
   "file_extension": ".py",
   "mimetype": "text/x-python",
   "name": "python",
   "nbconvert_exporter": "python",
   "pygments_lexer": "ipython3",
   "version": "3.11.3"
  }
 },
 "nbformat": 4,
 "nbformat_minor": 5
}
