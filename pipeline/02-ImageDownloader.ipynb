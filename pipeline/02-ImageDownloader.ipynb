{
 "cells": [
  {
   "cell_type": "markdown",
   "id": "272a791d-5edd-4758-b52c-dacbe788af66",
   "metadata": {},
   "source": [
    "# NGC 3568 Image Downloader"
   ]
  },
  {
   "cell_type": "markdown",
   "id": "c2420301-3281-43d8-a9a4-b3dc0265d0d7",
   "metadata": {},
   "source": [
    "## Imports"
   ]
  },
  {
   "cell_type": "code",
   "execution_count": null,
   "id": "71b2d980-1744-4649-9761-2d974d4f973c",
   "metadata": {},
   "outputs": [],
   "source": [
    "# 3rd Party Imports\n",
    "from astroquery.mast import Observations"
   ]
  },
  {
   "cell_type": "markdown",
   "id": "edc57c1e-73c2-4a1f-9dde-d18cfdd68647",
   "metadata": {},
   "source": [
    "## Load the Images"
   ]
  },
  {
   "cell_type": "code",
   "execution_count": null,
   "id": "64fdf108-dd42-4da7-bb90-d95a128c11f1",
   "metadata": {},
   "outputs": [],
   "source": [
    "# Get Observations\n",
    "obsTable = Observations.query_criteria(\n",
    "    objectname=\"NGC3568\",\n",
    "    target_name='NGC-3568',\n",
    "    obs_collection='HST',\n",
    "    dataproduct_type='IMAGE',\n",
    "    filters=['F275W', 'F475W', 'F814W'],\n",
    "    proposal_pi='Sun, Ming',\n",
    "    provenance_name=['CALACS', 'CALWF3'],\n",
    "    calib_level=3\n",
    ")"
   ]
  },
  {
   "cell_type": "code",
   "execution_count": null,
   "id": "e2eae74b-666e-42f0-b1d5-a2a93043093d",
   "metadata": {},
   "outputs": [],
   "source": [
    "# Get the Product List\n",
    "products = Observations.get_product_list(obsTable)"
   ]
  },
  {
   "cell_type": "code",
   "execution_count": null,
   "id": "0914bd6a-a8c2-41d5-adf2-e6c5b9009246",
   "metadata": {},
   "outputs": [],
   "source": [
    "# Download Products\n",
    "results = Observations.download_products(\n",
    "    products,\n",
    "    productSubGroupDescription=['FLC', 'DRC', 'ASN'],\n",
    "    project=['CALACS', 'CALWF3'],\n",
    "    extension=['fits', 'ecsv']\n",
    ")"
   ]
  }
 ],
 "metadata": {
  "kernelspec": {
   "display_name": "Python 3 (ipykernel)",
   "language": "python",
   "name": "python3"
  },
  "language_info": {
   "codemirror_mode": {
    "name": "ipython",
    "version": 3
   },
   "file_extension": ".py",
   "mimetype": "text/x-python",
   "name": "python",
   "nbconvert_exporter": "python",
   "pygments_lexer": "ipython3",
   "version": "3.11.3"
  }
 },
 "nbformat": 4,
 "nbformat_minor": 5
}
