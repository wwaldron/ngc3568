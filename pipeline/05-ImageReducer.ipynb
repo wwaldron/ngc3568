{
 "cells": [
  {
   "cell_type": "markdown",
   "id": "637a0e8a-4df7-4740-8b75-f2d67488f0c3",
   "metadata": {},
   "source": [
    "# NGC 3568 Image Reducer\n",
    "\n",
    "The purpose of this notebook is to reduce the FLC files from Hubble by:\n",
    "\n",
    "1. Aligning FLCs to the GAIA catalog\n",
    "2. Drizzling Images together from a particular filter\n",
    "3. Checking Drizzled images against the GAIA catalog\n",
    "\n",
    "## Imports"
   ]
  },
  {
   "cell_type": "code",
   "execution_count": null,
   "id": "a4534ffe-48ab-4e9c-ad7f-2a35819cab23",
   "metadata": {},
   "outputs": [],
   "source": [
    "# Python Imports\n",
    "import os\n",
    "from os import path\n",
    "from glob import glob, iglob\n",
    "import tarfile\n",
    "\n",
    "# 3rd Party Imports\n",
    "from matplotlib import pyplot as plt\n",
    "\n",
    "# Astropy Colab Imports\n",
    "from astropy.io import fits\n",
    "from astropy.wcs import WCS\n",
    "from astropy.stats import SigmaClip\n",
    "from astropy.table import QTable\n",
    "from photutils.background import Background2D, SExtractorBackground as SEBack\n",
    "from drizzlepac.tweakreg import TweakReg\n",
    "from drizzlepac.astrodrizzle import AstroDrizzle\n",
    "from astroscrappy import detect_cosmics as detectcrs"
   ]
  },
  {
   "cell_type": "markdown",
   "id": "77680ad3-81cd-440a-abe5-898417efde85",
   "metadata": {},
   "source": [
    "## Notebook Setup"
   ]
  },
  {
   "cell_type": "markdown",
   "id": "4125fdca-5069-448c-a159-97fbb18cb146",
   "metadata": {},
   "source": [
    "### TweakReg Data Quality Flags\n",
    "\n",
    "This cell defines the [DQ flags](https://www.stsci.edu/hst/instrumentation/acs/data-analysis/dq-flag-definitions) we want to ignore in the TweakReg process."
   ]
  },
  {
   "cell_type": "code",
   "execution_count": null,
   "id": "49a4de68-e406-4992-a078-e628b6812333",
   "metadata": {},
   "outputs": [],
   "source": [
    "# Data Directory\n",
    "DATA_DIR = 'mastDownload/HST'\n",
    "\n",
    "# FLC Glob Patter\n",
    "FLC_GLOB_PAT    = path.join(DATA_DIR, '**/*flc.fits')\n",
    "FLC_CR_GLOB_PAT = path.join(DATA_DIR, '**/*_cr_flc.fits')\n",
    "\n",
    "# Backup Name\n",
    "BACKUP_NAME = path.join(DATA_DIR, 'FLCs.tar.gz')"
   ]
  },
  {
   "cell_type": "code",
   "execution_count": null,
   "id": "0ea2d5c2-07ff-4df9-a748-375f08ada3e0",
   "metadata": {},
   "outputs": [],
   "source": [
    "# DQ Bits\n",
    "DQ_BAD_DET  = 4\n",
    "DQ_HOT_PIX  = 16\n",
    "DQ_CR_PIX   = 4096+8192\n",
    "DQ_GOOD_PIX = ~(DQ_BAD_DET + DQ_HOT_PIX + DQ_CR_PIX)"
   ]
  },
  {
   "cell_type": "markdown",
   "id": "3191a7f8-1148-43bc-b392-1fbec9a1d230",
   "metadata": {},
   "source": [
    "## Functions"
   ]
  },
  {
   "cell_type": "code",
   "execution_count": null,
   "id": "de709b10-c277-4c75-bbb0-e22e915cd853",
   "metadata": {},
   "outputs": [],
   "source": [
    "# Write Sources to Catalog\n",
    "def writecat(outName: str, srcs: QTable, wcs: WCS):\n",
    "    \n",
    "    # Get Coords\n",
    "    crds = wcs.pixel_to_world(srcs['xcentroid'], srcs['ycentroid'])\n",
    "    \n",
    "    # Open File for Writing\n",
    "    with open(outName, 'w') as fid:\n",
    "        \n",
    "        for crd in crds:\n",
    "            \n",
    "            fid.write(f'{crd.icrs.ra.value:20.10f} {crd.icrs.dec.value:20.10f}\\n')"
   ]
  },
  {
   "cell_type": "markdown",
   "id": "a48f13d0-61b3-4d43-bd14-08c86a9a3e3a",
   "metadata": {},
   "source": [
    "### AstroDrizzle Backup\n",
    "\n",
    "AstroDrizzle does not appear to be backing up the FLC files like it is supposed to. Therefore, we will write our own backup and restore."
   ]
  },
  {
   "cell_type": "code",
   "execution_count": null,
   "id": "8016246f-962c-400d-9aa0-24009c91bf4e",
   "metadata": {},
   "outputs": [],
   "source": [
    "def preastrobackup():\n",
    "    \"\"\"This creates a compressed tarball of the FLC data before running AstroDrizzle.\"\"\"\n",
    "    \n",
    "    # Open the tarball\n",
    "    with tarfile.open(BACKUP_NAME, 'x:gz') as fid:\n",
    "        \n",
    "        # Add Discovered Files\n",
    "        for filename in iglob(FLC_GLOB_PAT):\n",
    "            fid.add(filename, arcname=path.basename(filename))"
   ]
  },
  {
   "cell_type": "code",
   "execution_count": null,
   "id": "358204a3-ae60-4961-94bd-c72e9880ca67",
   "metadata": {},
   "outputs": [],
   "source": [
    "def restoreastrobackup():\n",
    "    \"\"\"This resores the FLCs to their pre-drizzled state.\"\"\"\n",
    "    \n",
    "    # Get the Existing File List\n",
    "    fileList = glob(FLC_GLOB_PAT)\n",
    "    \n",
    "    # Open the TarFile and Extract Members\n",
    "    with tarfile.open(BACKUP_NAME, 'r:gz') as fid:\n",
    "        for filePath in fileList:\n",
    "            fileName = path.basename(filePath)\n",
    "            fid.extract(fileName)\n",
    "            os.rename(fileName, filePath)"
   ]
  },
  {
   "cell_type": "markdown",
   "id": "d5cd3424-175d-427d-ab38-6d2b191ed91d",
   "metadata": {},
   "source": [
    "## Load the Data"
   ]
  },
  {
   "cell_type": "code",
   "execution_count": null,
   "id": "26b6a90f-5641-4f2d-9123-3f28c3db4f78",
   "metadata": {},
   "outputs": [],
   "source": [
    "# Get the File Names and Sort them by filter\n",
    "fileNameDict = {}\n",
    "for fn in iglob(FLC_GLOB_PAT):\n",
    "    \n",
    "    # Open the file to get the filter\n",
    "    with fits.open(fn) as hduList:\n",
    "        hdr = hduList[0].header  # Get the Header\n",
    "        if 'FILTER' in hdr:      # If the FILTER keyword exists (WFC3)\n",
    "            filt = hdr['FILTER']\n",
    "        elif 'CLEAR' not in hdr['FILTER1']:  # If FILTER1 is not clear (ACS)\n",
    "            filt = hdr['FILTER1']\n",
    "        else:                                # Else FILTER2 must be the filter (ACS)\n",
    "            filt = hdr['FILTER2']\n",
    "    \n",
    "    # Store the Name using the filter as the dict key\n",
    "    # Start the Empty List if Key does not exist\n",
    "    if filt not in fileNameDict:\n",
    "        fileNameDict[filt] = []\n",
    "    fileNameDict[filt].append(fn)"
   ]
  },
  {
   "cell_type": "markdown",
   "id": "ef010d17-6a56-4741-8dfb-3502225764bb",
   "metadata": {},
   "source": [
    "## Align Images to GAIA\n",
    "\n",
    "### Align F275W to GAIA"
   ]
  },
  {
   "cell_type": "code",
   "execution_count": null,
   "id": "a658c071-531f-4683-bc7d-b56d2873bea6",
   "metadata": {
    "tags": []
   },
   "outputs": [],
   "source": [
    "# Image Find Parameters\n",
    "imagefindcfg = refimagefindcfg = dict(\n",
    "    # peakmax=900,\n",
    "    threshold=100,\n",
    "    conv_width=3.5,\n",
    "    dqbits=DQ_GOOD_PIX\n",
    ")\n",
    "\n",
    "# Align the Images to the GAIA data\n",
    "TweakReg(\n",
    "    fileNameDict['F275W'],\n",
    "    updatehdr=True,\n",
    "    wcsname='GAIA',\n",
    "    clean=True,\n",
    "    configobj=None,\n",
    "    refcat='../Data/GAIA/NGC3568-GAIA-RefCatalog-icrs.txt',\n",
    "    runfile='F275W-Tweak.log',\n",
    "    shiftfile=True,\n",
    "    outshifts='F275W-Shifts.log',\n",
    "    searchrad=0.1,\n",
    "    minobj=15,\n",
    "    tolerance=2.5,\n",
    "    imagefindcfg=imagefindcfg\n",
    ")"
   ]
  },
  {
   "cell_type": "code",
   "execution_count": null,
   "id": "6f154b10-f8db-43b1-ad1d-4d615fb4152a",
   "metadata": {},
   "outputs": [],
   "source": [
    "# Clean Up\n",
    "for fn in iglob('*.match'):\n",
    "    os.remove(fn)\n",
    "for fn in iglob('*.coo'):\n",
    "    os.remove(fn)\n",
    "for fn in iglob('*.list'):\n",
    "    os.remove(fn)\n",
    "os.rename('F275W-Shifts.log', 'tweak/F275W/F275W-Shifts.log')\n",
    "os.rename('F275W-Tweak.log', 'tweak/F275W/F275W-Tweak.log')\n",
    "os.rename('shifts_wcs.fits', 'tweak/F275W/shift_wcs.fits')"
   ]
  },
  {
   "cell_type": "markdown",
   "id": "41d90de0-62e4-47c6-b435-79a9de9e88d0",
   "metadata": {},
   "source": [
    "### Align F475W to GAIA"
   ]
  },
  {
   "cell_type": "code",
   "execution_count": null,
   "id": "66df4400-786e-4a61-8b96-06a2229269a9",
   "metadata": {},
   "outputs": [],
   "source": [
    "# Image Find Parameters\n",
    "imagefindcfg = refimagefindcfg = dict(\n",
    "    # peakmax=900,\n",
    "    threshold=40,\n",
    "    conv_width=3.5,\n",
    "    dqbits=DQ_GOOD_PIX\n",
    ")\n",
    "\n",
    "# Align the Images to the GAIA data\n",
    "TweakReg(\n",
    "    fileNameDict['F475W'],\n",
    "    updatehdr=True,\n",
    "    wcsname='GAIA',\n",
    "    clean=True,\n",
    "    configobj=None,\n",
    "    refcat='../Data/GAIA/NGC3568-GAIA-RefCatalog-icrs.txt',\n",
    "    runfile='F475W-Tweak.log',\n",
    "    shiftfile=True,\n",
    "    outshifts='F475W-Shifts.log',\n",
    "    searchrad=0.1,\n",
    "    minobj=15,\n",
    "    tolerance=1,\n",
    "    imagefindcfg=imagefindcfg\n",
    ")"
   ]
  },
  {
   "cell_type": "code",
   "execution_count": null,
   "id": "48e553f3-085d-46e7-8d2b-16d79db03c00",
   "metadata": {},
   "outputs": [],
   "source": [
    "# Clean Up\n",
    "for fn in iglob('*.match'):\n",
    "    os.remove(fn)\n",
    "for fn in iglob('*.coo'):\n",
    "    os.remove(fn)\n",
    "for fn in iglob('*.list'):\n",
    "    os.remove(fn)\n",
    "os.rename('F475W-Shifts.log', 'tweak/F475W/F475W-Shifts.log')\n",
    "os.rename('F475W-Tweak.log', 'tweak/F475W/F475W-Tweak.log')\n",
    "os.rename('shifts_wcs.fits', 'tweak/F475W/shift_wcs.fits')"
   ]
  },
  {
   "cell_type": "markdown",
   "id": "ed04c1e6-3f10-4354-8f8f-7b5fd5809ac2",
   "metadata": {},
   "source": [
    "### Align F814W to GAIA"
   ]
  },
  {
   "cell_type": "code",
   "execution_count": null,
   "id": "88894703-57a4-4e6e-bac2-ec993d497a26",
   "metadata": {},
   "outputs": [],
   "source": [
    "# Image Find Parameters\n",
    "imagefindcfg = refimagefindcfg = dict(\n",
    "    # peakmax=900,\n",
    "    threshold=40,\n",
    "    conv_width=3.5,\n",
    "    dqbits=DQ_GOOD_PIX\n",
    ")\n",
    "\n",
    "# Align the Images to the GAIA data\n",
    "TweakReg(\n",
    "    fileNameDict['F814W'],\n",
    "    updatehdr=True,\n",
    "    wcsname='GAIA',\n",
    "    clean=True,\n",
    "    configobj=None,\n",
    "    refcat='../Data/GAIA/NGC3568-GAIA-RefCatalog-icrs.txt',\n",
    "    runfile='F814W-Tweak.log',\n",
    "    shiftfile=True,\n",
    "    outshifts='F814W-Shifts.log',\n",
    "    searchrad=0.1,\n",
    "    minobj=15,\n",
    "    tolerance=1,\n",
    "    imagefindcfg=imagefindcfg\n",
    ")"
   ]
  },
  {
   "cell_type": "code",
   "execution_count": null,
   "id": "844397fe-1026-4706-85ef-a58d841e5dc9",
   "metadata": {},
   "outputs": [],
   "source": [
    "# Clean Up\n",
    "for fn in iglob('*.match'):\n",
    "    os.remove(fn)\n",
    "for fn in iglob('*.coo'):\n",
    "    os.remove(fn)\n",
    "for fn in iglob('*.list'):\n",
    "    os.remove(fn)\n",
    "os.rename('F814W-Shifts.log', 'tweak/F814W/F814W-Shifts.log')\n",
    "os.rename('F814W-Tweak.log', 'tweak/F814W/F814W-Tweak.log')\n",
    "os.rename('shifts_wcs.fits', 'tweak/F814W/shift_wcs.fits')"
   ]
  },
  {
   "cell_type": "markdown",
   "id": "baaf9032-55fb-42f5-a69b-4dc2624f9ec0",
   "metadata": {},
   "source": [
    "## Remove FLC CRs with AstroScrappy\n",
    "\n",
    "* [Code Citation](https://zenodo.org/record/1482019)\n",
    "* [Paper Citation](http://adsabs.harvard.edu/abs/2001PASP..113.1420V)"
   ]
  },
  {
   "cell_type": "code",
   "execution_count": null,
   "id": "aeed3396-009c-487e-9800-4d7b4ae79f63",
   "metadata": {},
   "outputs": [],
   "source": [
    "# Backup First\n",
    "preastrobackup()"
   ]
  },
  {
   "cell_type": "code",
   "execution_count": null,
   "id": "662cc0c1-5cef-415b-93fd-852ac5bc32b6",
   "metadata": {},
   "outputs": [],
   "source": [
    "# Restore\n",
    "restoreastrobackup()"
   ]
  },
  {
   "cell_type": "markdown",
   "id": "e9219160-c1be-4e17-bf1d-6b53ea39ab25",
   "metadata": {},
   "source": [
    "Files are gzip'ed from the (bash) command line at the end of this section. If processing has already been done with the code below, it may be necessary to run\n",
    "\n",
    "```bash\n",
    "find -type f -name \"*_cr_flc.fits.gz\" -exec gunzip \"{}\" \\;\n",
    "```\n",
    "\n",
    "in the top-level FLC folder (*i.e.*, `mastDownload/HST`)."
   ]
  },
  {
   "cell_type": "markdown",
   "id": "9bf40d9b-c2c9-42a4-b30d-c07b155ae2b4",
   "metadata": {},
   "source": [
    "### Remove F814W CRs"
   ]
  },
  {
   "cell_type": "code",
   "execution_count": null,
   "id": "f2b460e4-5b73-422d-a7da-b9a49300b9c4",
   "metadata": {},
   "outputs": [],
   "source": [
    "# F814W Options\n",
    "opts = {\n",
    "    'sigclip'  : 4.5,\n",
    "    'objlim'   : 10,\n",
    "    'niter'    : 4,\n",
    "    'cleantype': 'medmask',\n",
    "    'sepmed'   : True,\n",
    "    # 'fsmode'   : 'convolve',\n",
    "    # 'psffwhm'  : 3.5,\n",
    "    # 'psfsize'  : 9,\n",
    "    'verbose'  : True\n",
    "}\n",
    "\n",
    "# Loop through FLCs to Process\n",
    "for fn in fileNameDict['F814W']:\n",
    "    \n",
    "    # Out Name\n",
    "    outName = fn.replace('flc.fits', 'cr_flc.fits')\n",
    "    \n",
    "    # Open Image\n",
    "    with fits.open(fn) as hduList:\n",
    "        \n",
    "        # Get Cleaned Arrays\n",
    "        crmsk1, crarr1 = detectcrs(hduList['SCI', 1].data, **opts)\n",
    "        crmsk2, crarr2 = detectcrs(hduList['SCI', 2].data, **opts)\n",
    "        \n",
    "        # Write the Output Data\n",
    "        outList = hduList.copy()  # Copy the Original File\n",
    "        outList[0].header.add_history('CRs removed with AstroScrappy')  # Update comment about processing\n",
    "        outList['SCI', 1].data = crarr1  # Change the old SCI image for CR Removed img\n",
    "        outList.insert(4, fits.ImageHDU(crmsk1.astype(int), hduList['SCI', 1].header, 'MSK'))\n",
    "        outList['SCI', 2].data = crarr2\n",
    "        outList.insert(8, fits.ImageHDU(crmsk2.astype(int), hduList['SCI', 2].header, 'MSK'))\n",
    "        outList.writeto(outName, overwrite=True)"
   ]
  },
  {
   "cell_type": "markdown",
   "id": "d2d47b1b-5a52-4df6-9aea-54dcc27b0924",
   "metadata": {},
   "source": [
    "### Remove F475W CRs"
   ]
  },
  {
   "cell_type": "code",
   "execution_count": null,
   "id": "51089654-4b09-46f8-8ee7-1a8b9aa348c8",
   "metadata": {},
   "outputs": [],
   "source": [
    "# F814W Options\n",
    "opts = {\n",
    "    'sigclip'  : 4.5,\n",
    "    'objlim'   : 10,\n",
    "    'niter'    : 4,\n",
    "    'cleantype': 'medmask',\n",
    "    'sepmed'   : True,\n",
    "    # 'fsmode'   : 'convolve',\n",
    "    # 'psffwhm'  : 3.5,\n",
    "    # 'psfsize'  : 9,\n",
    "    'verbose'  : False\n",
    "}\n",
    "\n",
    "# Loop through FLCs to Process\n",
    "for fn in fileNameDict['F475W']:\n",
    "    \n",
    "    # Out Name\n",
    "    outName = fn.replace('flc.fits', 'cr_flc.fits')\n",
    "    \n",
    "    # Open Image\n",
    "    with fits.open(fn) as hduList:\n",
    "        \n",
    "        # Get Cleaned Arrays\n",
    "        crmsk1, crarr1 = detectcrs(hduList['SCI', 1].data, **opts)\n",
    "        crmsk2, crarr2 = detectcrs(hduList['SCI', 2].data, **opts)\n",
    "        \n",
    "        # Write the Output Data\n",
    "        outList = hduList.copy()  # Copy the Original File\n",
    "        outList[0].header.add_history('CRs removed with AstroScrappy')  # Update comment about processing\n",
    "        outList['SCI', 1].data = crarr1  # Change the old SCI image for CR Removed img\n",
    "        outList.insert(4, fits.ImageHDU(crmsk1.astype(int), hduList['SCI', 1].header, 'MSK'))\n",
    "        outList['SCI', 2].data = crarr2\n",
    "        outList.insert(8, fits.ImageHDU(crmsk2.astype(int), hduList['SCI', 2].header, 'MSK'))\n",
    "        outList.writeto(outName, overwrite=True)"
   ]
  },
  {
   "cell_type": "markdown",
   "id": "f0a0670a-0b89-4e42-b9d9-e691f5c3602b",
   "metadata": {},
   "source": [
    "### Remove F275W CRs"
   ]
  },
  {
   "cell_type": "code",
   "execution_count": null,
   "id": "7996c3ae-1fb4-45fb-8f00-00e2921f14be",
   "metadata": {},
   "outputs": [],
   "source": [
    "# F814W Options\n",
    "opts = {\n",
    "    'sigclip'  : 4.0,\n",
    "    'objlim'   : 7.5,\n",
    "    'niter'    : 6,\n",
    "    'cleantype': 'medmask',\n",
    "    'sepmed'   : True,\n",
    "    # 'fsmode'   : 'convolve',\n",
    "    # 'psffwhm'  : 3.5,\n",
    "    # 'psfsize'  : 9,\n",
    "    'verbose'  : False\n",
    "}\n",
    "\n",
    "# Loop through FLCs to Process\n",
    "for fn in fileNameDict['F275W']:\n",
    "    \n",
    "    # Out Name\n",
    "    outName = fn.replace('flc.fits', 'cr_flc.fits')\n",
    "    \n",
    "    # Open Image\n",
    "    with fits.open(fn) as hduList:\n",
    "        \n",
    "        # Get Cleaned Arrays\n",
    "        crmsk1, crarr1 = detectcrs(hduList['SCI', 1].data, **opts)\n",
    "        crmsk2, crarr2 = detectcrs(hduList['SCI', 2].data, **opts)\n",
    "        \n",
    "        # Write the Output Data\n",
    "        outList = hduList.copy()  # Copy the Original File\n",
    "        outList[0].header.add_history('CRs removed with AstroScrappy')  # Update comment about processing\n",
    "        outList['SCI', 1].data = crarr1  # Change the old SCI image for CR Removed img\n",
    "        outList.insert(4, fits.ImageHDU(crmsk1.astype(int), hduList['SCI', 1].header, 'MSK'))\n",
    "        outList['SCI', 2].data = crarr2\n",
    "        outList.insert(8, fits.ImageHDU(crmsk2.astype(int), hduList['SCI', 2].header, 'MSK'))\n",
    "        outList.writeto(outName, overwrite=True)"
   ]
  },
  {
   "cell_type": "markdown",
   "id": "850f371e-8d46-4f59-b725-ed670feaf1d8",
   "metadata": {},
   "source": [
    "## Drizzle Images for CR Correction"
   ]
  },
  {
   "cell_type": "code",
   "execution_count": null,
   "id": "82fff24e-17d1-46c9-b2fd-b21413fa3385",
   "metadata": {},
   "outputs": [],
   "source": [
    "# Update the File Name Dict\n",
    "fileNameDict = {}\n",
    "for fn in iglob(FLC_CR_GLOB_PAT):\n",
    "    \n",
    "    # Open the file to get the filter\n",
    "    with fits.open(fn) as hduList:\n",
    "        hdr = hduList[0].header  # Get the Header\n",
    "        if 'FILTER' in hdr:      # If the FILTER keyword exists (WFC3)\n",
    "            filt = hdr['FILTER']\n",
    "        elif 'CLEAR' not in hdr['FILTER1']:  # If FILTER1 is not clear (ACS)\n",
    "            filt = hdr['FILTER1']\n",
    "        else:                                # Else FILTER2 must be the filter (ACS)\n",
    "            filt = hdr['FILTER2']\n",
    "    \n",
    "    # Store the Name using the filter as the dict key\n",
    "    # Start the Empty List if Key does not exist\n",
    "    if filt not in fileNameDict:\n",
    "        fileNameDict[filt] = []\n",
    "    fileNameDict[filt].append(fn)"
   ]
  },
  {
   "cell_type": "markdown",
   "id": "5184746e-d059-4b54-b209-f69658b672c7",
   "metadata": {},
   "source": [
    "### AstroDrizzle ACS Data Quality Flags\n",
    "\n",
    "[Link to ACS/WFC DQ Flags](https://www.stsci.edu/hst/instrumentation/acs/data-analysis/dq-flag-definitions)"
   ]
  },
  {
   "cell_type": "code",
   "execution_count": null,
   "id": "07d029d5-486e-4da2-93c4-d472d354be12",
   "metadata": {},
   "outputs": [],
   "source": [
    "# DQ Bits\n",
    "DQ_STAB_HOT = 16\n",
    "DQ_WARM_PIX = 64\n",
    "DQ_BAD_COL  = 128\n",
    "DQ_FULL_WELL= 256\n",
    "DQ_BADREF   = 512\n",
    "DQ_SINK_PIX = 1024\n",
    "DQ_GOOD_PIX = DQ_STAB_HOT + DQ_WARM_PIX + DQ_BAD_COL + DQ_FULL_WELL + DQ_SINK_PIX\n",
    "# DQ_GOOD_PIX = ~4096"
   ]
  },
  {
   "cell_type": "markdown",
   "id": "4b73b4ca-9625-4ecc-8c8f-87dcfebfc010",
   "metadata": {},
   "source": [
    "### Drizzle F814W Images"
   ]
  },
  {
   "cell_type": "code",
   "execution_count": null,
   "id": "727ad88a-d11f-4eeb-b155-cf12039938aa",
   "metadata": {},
   "outputs": [],
   "source": [
    "# Drizzle Images\n",
    "AstroDrizzle(\n",
    "    fileNameDict['F814W'],\n",
    "    output='F814W',\n",
    "    runfile='F814W-Astro.log',\n",
    "    wcskey='GAIA',\n",
    "    context=False,\n",
    "    configobj=None,\n",
    "    num_cores=4,\n",
    "    in_memory=False,\n",
    "    build=True,\n",
    "    restore=False,\n",
    "    preserve=False,\n",
    "    clean=True,\n",
    "    skymethod='globalmin+match',\n",
    "    driz_sep_scale=0.03,\n",
    "    driz_sep_bits=DQ_GOOD_PIX,\n",
    "    combine_type='iminmed',\n",
    "    driz_cr_corr=False,\n",
    "    final_wht_type='IVM',\n",
    "    final_pixfrac=0.9,\n",
    "    final_bits=DQ_GOOD_PIX,\n",
    "    final_wcs=True,\n",
    "    final_rot=0,\n",
    "    final_scale=0.03,\n",
    "    final_outnx=8500,\n",
    "    final_outny=8500\n",
    ")"
   ]
  },
  {
   "cell_type": "markdown",
   "id": "7f467a6a-8c04-4c0d-87c2-cd4fa95890c3",
   "metadata": {},
   "source": [
    "### Drizzle F475W Images"
   ]
  },
  {
   "cell_type": "code",
   "execution_count": null,
   "id": "b5d028a2-1248-4d93-b9b5-3d502c0909bc",
   "metadata": {},
   "outputs": [],
   "source": [
    "# Drizzle Images\n",
    "AstroDrizzle(\n",
    "    fileNameDict['F475W'],\n",
    "    output='F475W',\n",
    "    runfile='F475W-Astro.log',\n",
    "    wcskey='GAIA',\n",
    "    context=False,\n",
    "    configobj=None,\n",
    "    num_cores=4,\n",
    "    in_memory=False,\n",
    "    build=True,\n",
    "    restore=False,\n",
    "    preserve=False,\n",
    "    clean=True,\n",
    "    skymethod='globalmin+match',\n",
    "    driz_sep_scale=0.03,\n",
    "    driz_sep_bits=DQ_GOOD_PIX,\n",
    "    combine_type='iminmed',\n",
    "    driz_cr_corr=False,\n",
    "    final_wht_type='IVM',\n",
    "    final_pixfrac=0.9,\n",
    "    final_bits=DQ_GOOD_PIX,\n",
    "    final_wcs=True,\n",
    "    final_refimage='F814W_drc.fits'\n",
    ")"
   ]
  },
  {
   "cell_type": "markdown",
   "id": "0bd67ef3-2958-435e-b9b9-293484442930",
   "metadata": {},
   "source": [
    "### AstroDrizzle WFC3 Data Quality Flags\n",
    "\n",
    "[Link to WFC3/UVIS DQ Flags](https://hst-docs.stsci.edu/wfc3ihb/appendix-e-reduction-and-calibration-of-wfc3-data/e-1-the-stsci-reduction-and-calibration-pipeline#E.1TheSTScIReductionandCalibrationPipeline-tableE.2)"
   ]
  },
  {
   "cell_type": "code",
   "execution_count": null,
   "id": "a318e429-469c-4485-9f9a-09e1b6529e37",
   "metadata": {},
   "outputs": [],
   "source": [
    "# DQ Bits\n",
    "DQ_STAB_HOT = 16\n",
    "DQ_WARM_PIX = 64\n",
    "DQ_BAD_COL  = 128\n",
    "DQ_FULL_WELL= 256\n",
    "DQ_BADREF   = 512\n",
    "DQ_GOOD_PIX = DQ_STAB_HOT + DQ_WARM_PIX + DQ_FULL_WELL\n",
    "# DQ_GOOD_PIX = ~4096"
   ]
  },
  {
   "cell_type": "markdown",
   "id": "9fbbba27-7656-4df5-8b1f-f8c18ce78bd5",
   "metadata": {},
   "source": [
    "### Drizzle F275W Images"
   ]
  },
  {
   "cell_type": "code",
   "execution_count": null,
   "id": "a62a815b-aba1-4c99-b52e-a252b6591cd2",
   "metadata": {},
   "outputs": [],
   "source": [
    "# Drizzle Images\n",
    "AstroDrizzle(\n",
    "    fileNameDict['F275W'],\n",
    "    output='F275W',\n",
    "    runfile='F275W-Astro.log',\n",
    "    wcskey='GAIA',\n",
    "    context=False,\n",
    "    configobj=None,\n",
    "    num_cores=4,\n",
    "    in_memory=False,\n",
    "    build=True,\n",
    "    restore=False,\n",
    "    preserve=False,\n",
    "    clean=True,\n",
    "    skymethod='globalmin+match',\n",
    "    driz_sep_scale=0.03,\n",
    "    driz_sep_bits=DQ_GOOD_PIX,\n",
    "    combine_type='iminmed',\n",
    "    driz_cr_corr=False,\n",
    "    final_wht_type='IVM',\n",
    "    final_pixfrac=0.8,\n",
    "    final_bits=DQ_GOOD_PIX,\n",
    "    final_wcs=True,\n",
    "    final_refimage='F814W_drc.fits'\n",
    ")"
   ]
  },
  {
   "cell_type": "markdown",
   "id": "f10dec80-470c-40f5-8b67-67cb8326eed8",
   "metadata": {},
   "source": [
    "## GZip CR Images\n",
    "\n",
    "At this point, files are all gzip'ed in bash using\n",
    "\n",
    "```bash\n",
    "find -type f -name \"*_cr_flc.fits\" -exec gzip \"{}\" \\;\n",
    "```\n",
    "\n",
    "in the top-level FLC folder (*i.e.*, `mastDownload/HST`)."
   ]
  }
 ],
 "metadata": {
  "kernelspec": {
   "display_name": "Python [conda env:stenv]",
   "language": "python",
   "name": "conda-env-stenv-py"
  },
  "language_info": {
   "codemirror_mode": {
    "name": "ipython",
    "version": 3
   },
   "file_extension": ".py",
   "mimetype": "text/x-python",
   "name": "python",
   "nbconvert_exporter": "python",
   "pygments_lexer": "ipython3",
   "version": "3.11.3"
  }
 },
 "nbformat": 4,
 "nbformat_minor": 5
}
